{
  "cells": [
    {
      "cell_type": "markdown",
      "metadata": {
        "id": "view-in-github",
        "colab_type": "text"
      },
      "source": [
        "<a href=\"https://colab.research.google.com/github/CodesByNehaal/Real-Estate-Data-Analysis/blob/main/EDA.ipynb\" target=\"_parent\"><img src=\"https://colab.research.google.com/assets/colab-badge.svg\" alt=\"Open In Colab\"/></a>"
      ]
    },
    {
      "cell_type": "markdown",
      "metadata": {
        "id": "lmgorMs07jiT"
      },
      "source": [
        "**`Real Estate Market in Metropolitan cities of India: price driven by property size or location`**"
      ]
    },
    {
      "cell_type": "code",
      "execution_count": 1,
      "metadata": {
        "id": "yQ3ZYO7E64fp"
      },
      "outputs": [],
      "source": [
        "import matplotlib.pyplot as plt\n",
        "import pandas as pd\n",
        "import plotly.express as px"
      ]
    },
    {
      "cell_type": "code",
      "execution_count": 2,
      "metadata": {
        "id": "peOJn7i37Bdg"
      },
      "outputs": [],
      "source": [
        "df_mum = pd.read_csv('/content/Mumbai.csv')\n",
        "df_bang = pd.read_csv('/content/Bangalore.csv')\n",
        "df_chen = pd.read_csv('/content/Chennai.csv')\n",
        "df_del = pd.read_csv('/content/Delhi.csv')\n",
        "df_hyd = pd.read_csv('/content/Hyderabad.csv')\n",
        "df_kol = pd.read_csv('/content/Kolkata.csv')\n"
      ]
    },
    {
      "cell_type": "markdown",
      "metadata": {
        "id": "UXGFBC1u-Qy6"
      },
      "source": [
        "\n",
        "\n",
        "\n",
        "# Playing with Mumbai's dataset"
      ]
    },
    {
      "cell_type": "code",
      "execution_count": 3,
      "metadata": {
        "colab": {
          "base_uri": "https://localhost:8080/",
          "height": 317
        },
        "id": "-KX2-Ej98iwH",
        "outputId": "fcc0b637-d88d-4bc5-a9e6-9f2088246689"
      },
      "outputs": [
        {
          "output_type": "execute_result",
          "data": {
            "text/plain": [
              "     Price  Area  Location  No. of Bedrooms  Resale  MaintenanceStaff  \\\n",
              "0  4850000   720  Kharghar                1       1                 1   \n",
              "1  4500000   600  Kharghar                1       1                 1   \n",
              "2  6700000   650  Kharghar                1       1                 1   \n",
              "3  4500000   650  Kharghar                1       1                 1   \n",
              "4  5000000   665  Kharghar                1       1                 1   \n",
              "\n",
              "   Gymnasium  SwimmingPool  LandscapedGardens  JoggingTrack  ...  \\\n",
              "0          0             0                  0             0  ...   \n",
              "1          1             1                  0             1  ...   \n",
              "2          1             1                  0             1  ...   \n",
              "3          0             0                  1             0  ...   \n",
              "4          0             0                  1             0  ...   \n",
              "\n",
              "   LiftAvailable  BED  VaastuCompliant  Microwave  GolfCourse  TV  \\\n",
              "0              1    0                1          0           0   0   \n",
              "1              1    0                1          0           0   0   \n",
              "2              1    0                1          0           0   0   \n",
              "3              1    1                1          0           0   0   \n",
              "4              1    0                1          0           0   0   \n",
              "\n",
              "   DiningTable  Sofa  Wardrobe  Refrigerator  \n",
              "0            0     0         0             0  \n",
              "1            0     0         0             0  \n",
              "2            0     0         0             0  \n",
              "3            0     0         1             0  \n",
              "4            0     0         0             0  \n",
              "\n",
              "[5 rows x 40 columns]"
            ],
            "text/html": [
              "\n",
              "  <div id=\"df-91eaefcf-7606-4b9d-8b88-c29f1c8f200a\">\n",
              "    <div class=\"colab-df-container\">\n",
              "      <div>\n",
              "<style scoped>\n",
              "    .dataframe tbody tr th:only-of-type {\n",
              "        vertical-align: middle;\n",
              "    }\n",
              "\n",
              "    .dataframe tbody tr th {\n",
              "        vertical-align: top;\n",
              "    }\n",
              "\n",
              "    .dataframe thead th {\n",
              "        text-align: right;\n",
              "    }\n",
              "</style>\n",
              "<table border=\"1\" class=\"dataframe\">\n",
              "  <thead>\n",
              "    <tr style=\"text-align: right;\">\n",
              "      <th></th>\n",
              "      <th>Price</th>\n",
              "      <th>Area</th>\n",
              "      <th>Location</th>\n",
              "      <th>No. of Bedrooms</th>\n",
              "      <th>Resale</th>\n",
              "      <th>MaintenanceStaff</th>\n",
              "      <th>Gymnasium</th>\n",
              "      <th>SwimmingPool</th>\n",
              "      <th>LandscapedGardens</th>\n",
              "      <th>JoggingTrack</th>\n",
              "      <th>...</th>\n",
              "      <th>LiftAvailable</th>\n",
              "      <th>BED</th>\n",
              "      <th>VaastuCompliant</th>\n",
              "      <th>Microwave</th>\n",
              "      <th>GolfCourse</th>\n",
              "      <th>TV</th>\n",
              "      <th>DiningTable</th>\n",
              "      <th>Sofa</th>\n",
              "      <th>Wardrobe</th>\n",
              "      <th>Refrigerator</th>\n",
              "    </tr>\n",
              "  </thead>\n",
              "  <tbody>\n",
              "    <tr>\n",
              "      <th>0</th>\n",
              "      <td>4850000</td>\n",
              "      <td>720</td>\n",
              "      <td>Kharghar</td>\n",
              "      <td>1</td>\n",
              "      <td>1</td>\n",
              "      <td>1</td>\n",
              "      <td>0</td>\n",
              "      <td>0</td>\n",
              "      <td>0</td>\n",
              "      <td>0</td>\n",
              "      <td>...</td>\n",
              "      <td>1</td>\n",
              "      <td>0</td>\n",
              "      <td>1</td>\n",
              "      <td>0</td>\n",
              "      <td>0</td>\n",
              "      <td>0</td>\n",
              "      <td>0</td>\n",
              "      <td>0</td>\n",
              "      <td>0</td>\n",
              "      <td>0</td>\n",
              "    </tr>\n",
              "    <tr>\n",
              "      <th>1</th>\n",
              "      <td>4500000</td>\n",
              "      <td>600</td>\n",
              "      <td>Kharghar</td>\n",
              "      <td>1</td>\n",
              "      <td>1</td>\n",
              "      <td>1</td>\n",
              "      <td>1</td>\n",
              "      <td>1</td>\n",
              "      <td>0</td>\n",
              "      <td>1</td>\n",
              "      <td>...</td>\n",
              "      <td>1</td>\n",
              "      <td>0</td>\n",
              "      <td>1</td>\n",
              "      <td>0</td>\n",
              "      <td>0</td>\n",
              "      <td>0</td>\n",
              "      <td>0</td>\n",
              "      <td>0</td>\n",
              "      <td>0</td>\n",
              "      <td>0</td>\n",
              "    </tr>\n",
              "    <tr>\n",
              "      <th>2</th>\n",
              "      <td>6700000</td>\n",
              "      <td>650</td>\n",
              "      <td>Kharghar</td>\n",
              "      <td>1</td>\n",
              "      <td>1</td>\n",
              "      <td>1</td>\n",
              "      <td>1</td>\n",
              "      <td>1</td>\n",
              "      <td>0</td>\n",
              "      <td>1</td>\n",
              "      <td>...</td>\n",
              "      <td>1</td>\n",
              "      <td>0</td>\n",
              "      <td>1</td>\n",
              "      <td>0</td>\n",
              "      <td>0</td>\n",
              "      <td>0</td>\n",
              "      <td>0</td>\n",
              "      <td>0</td>\n",
              "      <td>0</td>\n",
              "      <td>0</td>\n",
              "    </tr>\n",
              "    <tr>\n",
              "      <th>3</th>\n",
              "      <td>4500000</td>\n",
              "      <td>650</td>\n",
              "      <td>Kharghar</td>\n",
              "      <td>1</td>\n",
              "      <td>1</td>\n",
              "      <td>1</td>\n",
              "      <td>0</td>\n",
              "      <td>0</td>\n",
              "      <td>1</td>\n",
              "      <td>0</td>\n",
              "      <td>...</td>\n",
              "      <td>1</td>\n",
              "      <td>1</td>\n",
              "      <td>1</td>\n",
              "      <td>0</td>\n",
              "      <td>0</td>\n",
              "      <td>0</td>\n",
              "      <td>0</td>\n",
              "      <td>0</td>\n",
              "      <td>1</td>\n",
              "      <td>0</td>\n",
              "    </tr>\n",
              "    <tr>\n",
              "      <th>4</th>\n",
              "      <td>5000000</td>\n",
              "      <td>665</td>\n",
              "      <td>Kharghar</td>\n",
              "      <td>1</td>\n",
              "      <td>1</td>\n",
              "      <td>1</td>\n",
              "      <td>0</td>\n",
              "      <td>0</td>\n",
              "      <td>1</td>\n",
              "      <td>0</td>\n",
              "      <td>...</td>\n",
              "      <td>1</td>\n",
              "      <td>0</td>\n",
              "      <td>1</td>\n",
              "      <td>0</td>\n",
              "      <td>0</td>\n",
              "      <td>0</td>\n",
              "      <td>0</td>\n",
              "      <td>0</td>\n",
              "      <td>0</td>\n",
              "      <td>0</td>\n",
              "    </tr>\n",
              "  </tbody>\n",
              "</table>\n",
              "<p>5 rows × 40 columns</p>\n",
              "</div>\n",
              "      <button class=\"colab-df-convert\" onclick=\"convertToInteractive('df-91eaefcf-7606-4b9d-8b88-c29f1c8f200a')\"\n",
              "              title=\"Convert this dataframe to an interactive table.\"\n",
              "              style=\"display:none;\">\n",
              "        \n",
              "  <svg xmlns=\"http://www.w3.org/2000/svg\" height=\"24px\"viewBox=\"0 0 24 24\"\n",
              "       width=\"24px\">\n",
              "    <path d=\"M0 0h24v24H0V0z\" fill=\"none\"/>\n",
              "    <path d=\"M18.56 5.44l.94 2.06.94-2.06 2.06-.94-2.06-.94-.94-2.06-.94 2.06-2.06.94zm-11 1L8.5 8.5l.94-2.06 2.06-.94-2.06-.94L8.5 2.5l-.94 2.06-2.06.94zm10 10l.94 2.06.94-2.06 2.06-.94-2.06-.94-.94-2.06-.94 2.06-2.06.94z\"/><path d=\"M17.41 7.96l-1.37-1.37c-.4-.4-.92-.59-1.43-.59-.52 0-1.04.2-1.43.59L10.3 9.45l-7.72 7.72c-.78.78-.78 2.05 0 2.83L4 21.41c.39.39.9.59 1.41.59.51 0 1.02-.2 1.41-.59l7.78-7.78 2.81-2.81c.8-.78.8-2.07 0-2.86zM5.41 20L4 18.59l7.72-7.72 1.47 1.35L5.41 20z\"/>\n",
              "  </svg>\n",
              "      </button>\n",
              "      \n",
              "  <style>\n",
              "    .colab-df-container {\n",
              "      display:flex;\n",
              "      flex-wrap:wrap;\n",
              "      gap: 12px;\n",
              "    }\n",
              "\n",
              "    .colab-df-convert {\n",
              "      background-color: #E8F0FE;\n",
              "      border: none;\n",
              "      border-radius: 50%;\n",
              "      cursor: pointer;\n",
              "      display: none;\n",
              "      fill: #1967D2;\n",
              "      height: 32px;\n",
              "      padding: 0 0 0 0;\n",
              "      width: 32px;\n",
              "    }\n",
              "\n",
              "    .colab-df-convert:hover {\n",
              "      background-color: #E2EBFA;\n",
              "      box-shadow: 0px 1px 2px rgba(60, 64, 67, 0.3), 0px 1px 3px 1px rgba(60, 64, 67, 0.15);\n",
              "      fill: #174EA6;\n",
              "    }\n",
              "\n",
              "    [theme=dark] .colab-df-convert {\n",
              "      background-color: #3B4455;\n",
              "      fill: #D2E3FC;\n",
              "    }\n",
              "\n",
              "    [theme=dark] .colab-df-convert:hover {\n",
              "      background-color: #434B5C;\n",
              "      box-shadow: 0px 1px 3px 1px rgba(0, 0, 0, 0.15);\n",
              "      filter: drop-shadow(0px 1px 2px rgba(0, 0, 0, 0.3));\n",
              "      fill: #FFFFFF;\n",
              "    }\n",
              "  </style>\n",
              "\n",
              "      <script>\n",
              "        const buttonEl =\n",
              "          document.querySelector('#df-91eaefcf-7606-4b9d-8b88-c29f1c8f200a button.colab-df-convert');\n",
              "        buttonEl.style.display =\n",
              "          google.colab.kernel.accessAllowed ? 'block' : 'none';\n",
              "\n",
              "        async function convertToInteractive(key) {\n",
              "          const element = document.querySelector('#df-91eaefcf-7606-4b9d-8b88-c29f1c8f200a');\n",
              "          const dataTable =\n",
              "            await google.colab.kernel.invokeFunction('convertToInteractive',\n",
              "                                                     [key], {});\n",
              "          if (!dataTable) return;\n",
              "\n",
              "          const docLinkHtml = 'Like what you see? Visit the ' +\n",
              "            '<a target=\"_blank\" href=https://colab.research.google.com/notebooks/data_table.ipynb>data table notebook</a>'\n",
              "            + ' to learn more about interactive tables.';\n",
              "          element.innerHTML = '';\n",
              "          dataTable['output_type'] = 'display_data';\n",
              "          await google.colab.output.renderOutput(dataTable, element);\n",
              "          const docLink = document.createElement('div');\n",
              "          docLink.innerHTML = docLinkHtml;\n",
              "          element.appendChild(docLink);\n",
              "        }\n",
              "      </script>\n",
              "    </div>\n",
              "  </div>\n",
              "  "
            ]
          },
          "metadata": {},
          "execution_count": 3
        }
      ],
      "source": [
        "df_mum.head()"
      ]
    },
    {
      "cell_type": "code",
      "execution_count": 4,
      "metadata": {
        "colab": {
          "base_uri": "https://localhost:8080/"
        },
        "id": "20V0M2By8-_e",
        "outputId": "05e8518e-440d-4540-c9fa-4ed0757f9682"
      },
      "outputs": [
        {
          "output_type": "stream",
          "name": "stdout",
          "text": [
            "<class 'pandas.core.frame.DataFrame'>\n",
            "RangeIndex: 7719 entries, 0 to 7718\n",
            "Data columns (total 40 columns):\n",
            " #   Column               Non-Null Count  Dtype \n",
            "---  ------               --------------  ----- \n",
            " 0   Price                7719 non-null   int64 \n",
            " 1   Area                 7719 non-null   int64 \n",
            " 2   Location             7719 non-null   object\n",
            " 3   No. of Bedrooms      7719 non-null   int64 \n",
            " 4   Resale               7719 non-null   int64 \n",
            " 5   MaintenanceStaff     7719 non-null   int64 \n",
            " 6   Gymnasium            7719 non-null   int64 \n",
            " 7   SwimmingPool         7719 non-null   int64 \n",
            " 8   LandscapedGardens    7719 non-null   int64 \n",
            " 9   JoggingTrack         7719 non-null   int64 \n",
            " 10  RainWaterHarvesting  7719 non-null   int64 \n",
            " 11  IndoorGames          7719 non-null   int64 \n",
            " 12  ShoppingMall         7719 non-null   int64 \n",
            " 13  Intercom             7719 non-null   int64 \n",
            " 14  SportsFacility       7719 non-null   int64 \n",
            " 15  ATM                  7719 non-null   int64 \n",
            " 16  ClubHouse            7719 non-null   int64 \n",
            " 17  School               7719 non-null   int64 \n",
            " 18  24X7Security         7719 non-null   int64 \n",
            " 19  PowerBackup          7719 non-null   int64 \n",
            " 20  CarParking           7719 non-null   int64 \n",
            " 21  StaffQuarter         7719 non-null   int64 \n",
            " 22  Cafeteria            7719 non-null   int64 \n",
            " 23  MultipurposeRoom     7719 non-null   int64 \n",
            " 24  Hospital             7719 non-null   int64 \n",
            " 25  WashingMachine       7719 non-null   int64 \n",
            " 26  Gasconnection        7719 non-null   int64 \n",
            " 27  AC                   7719 non-null   int64 \n",
            " 28  Wifi                 7719 non-null   int64 \n",
            " 29  Children'splayarea   7719 non-null   int64 \n",
            " 30  LiftAvailable        7719 non-null   int64 \n",
            " 31  BED                  7719 non-null   int64 \n",
            " 32  VaastuCompliant      7719 non-null   int64 \n",
            " 33  Microwave            7719 non-null   int64 \n",
            " 34  GolfCourse           7719 non-null   int64 \n",
            " 35  TV                   7719 non-null   int64 \n",
            " 36  DiningTable          7719 non-null   int64 \n",
            " 37  Sofa                 7719 non-null   int64 \n",
            " 38  Wardrobe             7719 non-null   int64 \n",
            " 39  Refrigerator         7719 non-null   int64 \n",
            "dtypes: int64(39), object(1)\n",
            "memory usage: 2.4+ MB\n"
          ]
        }
      ],
      "source": [
        "df_mum.info()"
      ]
    },
    {
      "cell_type": "code",
      "execution_count": 5,
      "metadata": {
        "id": "ok0zNy_f9Cm7"
      },
      "outputs": [],
      "source": [
        "df_mum.dropna(inplace=True)"
      ]
    },
    {
      "cell_type": "code",
      "execution_count": 6,
      "metadata": {
        "id": "_wdRtLI_9JJv"
      },
      "outputs": [],
      "source": [
        "df1 = df_mum[[\"Price\",\"Area\",\"Location\"]]"
      ]
    },
    {
      "cell_type": "code",
      "execution_count": 7,
      "metadata": {
        "colab": {
          "base_uri": "https://localhost:8080/"
        },
        "id": "VtaEiMDFBo8M",
        "outputId": "a20d8628-d53c-40d5-d798-e246aabae91f"
      },
      "outputs": [
        {
          "output_type": "stream",
          "name": "stderr",
          "text": [
            "/usr/local/lib/python3.7/dist-packages/ipykernel_launcher.py:1: SettingWithCopyWarning: \n",
            "A value is trying to be set on a copy of a slice from a DataFrame.\n",
            "Try using .loc[row_indexer,col_indexer] = value instead\n",
            "\n",
            "See the caveats in the documentation: https://pandas.pydata.org/pandas-docs/stable/user_guide/indexing.html#returning-a-view-versus-a-copy\n",
            "  \"\"\"Entry point for launching an IPython kernel.\n"
          ]
        }
      ],
      "source": [
        " df1['city'] = 'Mumbai'"
      ]
    },
    {
      "cell_type": "markdown",
      "metadata": {
        "id": "89x3D6---c5_"
      },
      "source": [
        "# Playing with Bangalore's dataset"
      ]
    },
    {
      "cell_type": "code",
      "execution_count": 8,
      "metadata": {
        "colab": {
          "base_uri": "https://localhost:8080/"
        },
        "id": "iwTQ9IR8-ieK",
        "outputId": "e2bdb8fe-0169-4ce6-ebff-809de39cbc1b"
      },
      "outputs": [
        {
          "output_type": "stream",
          "name": "stdout",
          "text": [
            "<class 'pandas.core.frame.DataFrame'>\n",
            "RangeIndex: 6207 entries, 0 to 6206\n",
            "Data columns (total 40 columns):\n",
            " #   Column               Non-Null Count  Dtype \n",
            "---  ------               --------------  ----- \n",
            " 0   Price                6207 non-null   int64 \n",
            " 1   Area                 6207 non-null   int64 \n",
            " 2   Location             6207 non-null   object\n",
            " 3   No. of Bedrooms      6207 non-null   int64 \n",
            " 4   Resale               6207 non-null   int64 \n",
            " 5   MaintenanceStaff     6207 non-null   int64 \n",
            " 6   Gymnasium            6207 non-null   int64 \n",
            " 7   SwimmingPool         6207 non-null   int64 \n",
            " 8   LandscapedGardens    6207 non-null   int64 \n",
            " 9   JoggingTrack         6207 non-null   int64 \n",
            " 10  RainWaterHarvesting  6207 non-null   int64 \n",
            " 11  IndoorGames          6207 non-null   int64 \n",
            " 12  ShoppingMall         6207 non-null   int64 \n",
            " 13  Intercom             6207 non-null   int64 \n",
            " 14  SportsFacility       6207 non-null   int64 \n",
            " 15  ATM                  6207 non-null   int64 \n",
            " 16  ClubHouse            6207 non-null   int64 \n",
            " 17  School               6207 non-null   int64 \n",
            " 18  24X7Security         6207 non-null   int64 \n",
            " 19  PowerBackup          6207 non-null   int64 \n",
            " 20  CarParking           6207 non-null   int64 \n",
            " 21  StaffQuarter         6207 non-null   int64 \n",
            " 22  Cafeteria            6207 non-null   int64 \n",
            " 23  MultipurposeRoom     6207 non-null   int64 \n",
            " 24  Hospital             6207 non-null   int64 \n",
            " 25  WashingMachine       6207 non-null   int64 \n",
            " 26  Gasconnection        6207 non-null   int64 \n",
            " 27  AC                   6207 non-null   int64 \n",
            " 28  Wifi                 6207 non-null   int64 \n",
            " 29  Children'splayarea   6207 non-null   int64 \n",
            " 30  LiftAvailable        6207 non-null   int64 \n",
            " 31  BED                  6207 non-null   int64 \n",
            " 32  VaastuCompliant      6207 non-null   int64 \n",
            " 33  Microwave            6207 non-null   int64 \n",
            " 34  GolfCourse           6207 non-null   int64 \n",
            " 35  TV                   6207 non-null   int64 \n",
            " 36  DiningTable          6207 non-null   int64 \n",
            " 37  Sofa                 6207 non-null   int64 \n",
            " 38  Wardrobe             6207 non-null   int64 \n",
            " 39  Refrigerator         6207 non-null   int64 \n",
            "dtypes: int64(39), object(1)\n",
            "memory usage: 1.9+ MB\n"
          ]
        }
      ],
      "source": [
        "df_bang.info()\n",
        "df_mum.dropna(inplace=True)"
      ]
    },
    {
      "cell_type": "code",
      "execution_count": 9,
      "metadata": {
        "id": "9Vje_KL6-oM7"
      },
      "outputs": [],
      "source": [
        "df2 = df_bang[[\"Price\",\"Area\",\"Location\"]]"
      ]
    },
    {
      "cell_type": "code",
      "execution_count": 10,
      "metadata": {
        "colab": {
          "base_uri": "https://localhost:8080/"
        },
        "id": "q-ePTGe8B8Zr",
        "outputId": "de36cdce-32e0-4817-c62a-0b7b857e9acb"
      },
      "outputs": [
        {
          "output_type": "stream",
          "name": "stderr",
          "text": [
            "/usr/local/lib/python3.7/dist-packages/ipykernel_launcher.py:1: SettingWithCopyWarning: \n",
            "A value is trying to be set on a copy of a slice from a DataFrame.\n",
            "Try using .loc[row_indexer,col_indexer] = value instead\n",
            "\n",
            "See the caveats in the documentation: https://pandas.pydata.org/pandas-docs/stable/user_guide/indexing.html#returning-a-view-versus-a-copy\n",
            "  \"\"\"Entry point for launching an IPython kernel.\n"
          ]
        }
      ],
      "source": [
        " df2['city'] = 'Bangalore'\n"
      ]
    },
    {
      "cell_type": "markdown",
      "metadata": {
        "id": "8IWnz-_o-26V"
      },
      "source": [
        "\n",
        "# Playing with Chennai's Dataset"
      ]
    },
    {
      "cell_type": "code",
      "execution_count": 11,
      "metadata": {
        "colab": {
          "base_uri": "https://localhost:8080/"
        },
        "id": "3jLVYaNv-9oP",
        "outputId": "260ad49e-db91-43c6-8371-ffaec3e88c54"
      },
      "outputs": [
        {
          "output_type": "stream",
          "name": "stdout",
          "text": [
            "<class 'pandas.core.frame.DataFrame'>\n",
            "RangeIndex: 5014 entries, 0 to 5013\n",
            "Data columns (total 40 columns):\n",
            " #   Column               Non-Null Count  Dtype \n",
            "---  ------               --------------  ----- \n",
            " 0   Price                5014 non-null   int64 \n",
            " 1   Area                 5014 non-null   int64 \n",
            " 2   Location             5014 non-null   object\n",
            " 3   No. of Bedrooms      5014 non-null   int64 \n",
            " 4   Resale               5014 non-null   int64 \n",
            " 5   MaintenanceStaff     5014 non-null   int64 \n",
            " 6   Gymnasium            5014 non-null   int64 \n",
            " 7   SwimmingPool         5014 non-null   int64 \n",
            " 8   LandscapedGardens    5014 non-null   int64 \n",
            " 9   JoggingTrack         5014 non-null   int64 \n",
            " 10  RainWaterHarvesting  5014 non-null   int64 \n",
            " 11  IndoorGames          5014 non-null   int64 \n",
            " 12  ShoppingMall         5014 non-null   int64 \n",
            " 13  Intercom             5014 non-null   int64 \n",
            " 14  SportsFacility       5014 non-null   int64 \n",
            " 15  ATM                  5014 non-null   int64 \n",
            " 16  ClubHouse            5014 non-null   int64 \n",
            " 17  School               5014 non-null   int64 \n",
            " 18  24X7Security         5014 non-null   int64 \n",
            " 19  PowerBackup          5014 non-null   int64 \n",
            " 20  CarParking           5014 non-null   int64 \n",
            " 21  StaffQuarter         5014 non-null   int64 \n",
            " 22  Cafeteria            5014 non-null   int64 \n",
            " 23  MultipurposeRoom     5014 non-null   int64 \n",
            " 24  Hospital             5014 non-null   int64 \n",
            " 25  WashingMachine       5014 non-null   int64 \n",
            " 26  Gasconnection        5014 non-null   int64 \n",
            " 27  AC                   5014 non-null   int64 \n",
            " 28  Wifi                 5014 non-null   int64 \n",
            " 29  Children'splayarea   5014 non-null   int64 \n",
            " 30  LiftAvailable        5014 non-null   int64 \n",
            " 31  BED                  5014 non-null   int64 \n",
            " 32  VaastuCompliant      5014 non-null   int64 \n",
            " 33  Microwave            5014 non-null   int64 \n",
            " 34  GolfCourse           5014 non-null   int64 \n",
            " 35  TV                   5014 non-null   int64 \n",
            " 36  DiningTable          5014 non-null   int64 \n",
            " 37  Sofa                 5014 non-null   int64 \n",
            " 38  Wardrobe             5014 non-null   int64 \n",
            " 39  Refrigerator         5014 non-null   int64 \n",
            "dtypes: int64(39), object(1)\n",
            "memory usage: 1.5+ MB\n"
          ]
        }
      ],
      "source": [
        "df_chen.info()\n",
        "df_chen.dropna(inplace=True)"
      ]
    },
    {
      "cell_type": "code",
      "execution_count": 12,
      "metadata": {
        "id": "P5RvG5Ws-_fC"
      },
      "outputs": [],
      "source": [
        "df3 = df_chen[[\"Price\",\"Area\",\"Location\"]]"
      ]
    },
    {
      "cell_type": "code",
      "execution_count": 13,
      "metadata": {
        "colab": {
          "base_uri": "https://localhost:8080/"
        },
        "id": "BFMcZQ8PCC7x",
        "outputId": "fb49962d-aeea-4d38-93d5-6828f21f588d"
      },
      "outputs": [
        {
          "output_type": "stream",
          "name": "stderr",
          "text": [
            "/usr/local/lib/python3.7/dist-packages/ipykernel_launcher.py:1: SettingWithCopyWarning: \n",
            "A value is trying to be set on a copy of a slice from a DataFrame.\n",
            "Try using .loc[row_indexer,col_indexer] = value instead\n",
            "\n",
            "See the caveats in the documentation: https://pandas.pydata.org/pandas-docs/stable/user_guide/indexing.html#returning-a-view-versus-a-copy\n",
            "  \"\"\"Entry point for launching an IPython kernel.\n"
          ]
        }
      ],
      "source": [
        " df3['city'] = 'Chennai'"
      ]
    },
    {
      "cell_type": "markdown",
      "metadata": {
        "id": "7ArtJ0ah_KHT"
      },
      "source": [
        "# Playing with Delhi's Dataset"
      ]
    },
    {
      "cell_type": "code",
      "execution_count": 14,
      "metadata": {
        "colab": {
          "base_uri": "https://localhost:8080/"
        },
        "id": "KcWmI5s4_Nxg",
        "outputId": "cbc7bffa-7aff-49bd-aa0c-2c719b6e9fa1"
      },
      "outputs": [
        {
          "output_type": "stream",
          "name": "stdout",
          "text": [
            "<class 'pandas.core.frame.DataFrame'>\n",
            "RangeIndex: 4998 entries, 0 to 4997\n",
            "Data columns (total 40 columns):\n",
            " #   Column               Non-Null Count  Dtype \n",
            "---  ------               --------------  ----- \n",
            " 0   Price                4998 non-null   int64 \n",
            " 1   Area                 4998 non-null   int64 \n",
            " 2   Location             4998 non-null   object\n",
            " 3   No. of Bedrooms      4998 non-null   int64 \n",
            " 4   Resale               4998 non-null   int64 \n",
            " 5   MaintenanceStaff     4998 non-null   int64 \n",
            " 6   Gymnasium            4998 non-null   int64 \n",
            " 7   SwimmingPool         4998 non-null   int64 \n",
            " 8   LandscapedGardens    4998 non-null   int64 \n",
            " 9   JoggingTrack         4998 non-null   int64 \n",
            " 10  RainWaterHarvesting  4998 non-null   int64 \n",
            " 11  IndoorGames          4998 non-null   int64 \n",
            " 12  ShoppingMall         4998 non-null   int64 \n",
            " 13  Intercom             4998 non-null   int64 \n",
            " 14  SportsFacility       4998 non-null   int64 \n",
            " 15  ATM                  4998 non-null   int64 \n",
            " 16  ClubHouse            4998 non-null   int64 \n",
            " 17  School               4998 non-null   int64 \n",
            " 18  24X7Security         4998 non-null   int64 \n",
            " 19  PowerBackup          4998 non-null   int64 \n",
            " 20  CarParking           4998 non-null   int64 \n",
            " 21  StaffQuarter         4998 non-null   int64 \n",
            " 22  Cafeteria            4998 non-null   int64 \n",
            " 23  MultipurposeRoom     4998 non-null   int64 \n",
            " 24  Hospital             4998 non-null   int64 \n",
            " 25  WashingMachine       4998 non-null   int64 \n",
            " 26  Gasconnection        4998 non-null   int64 \n",
            " 27  AC                   4998 non-null   int64 \n",
            " 28  Wifi                 4998 non-null   int64 \n",
            " 29  Children'splayarea   4998 non-null   int64 \n",
            " 30  LiftAvailable        4998 non-null   int64 \n",
            " 31  BED                  4998 non-null   int64 \n",
            " 32  VaastuCompliant      4998 non-null   int64 \n",
            " 33  Microwave            4998 non-null   int64 \n",
            " 34  GolfCourse           4998 non-null   int64 \n",
            " 35  TV                   4998 non-null   int64 \n",
            " 36  DiningTable          4998 non-null   int64 \n",
            " 37  Sofa                 4998 non-null   int64 \n",
            " 38  Wardrobe             4998 non-null   int64 \n",
            " 39  Refrigerator         4998 non-null   int64 \n",
            "dtypes: int64(39), object(1)\n",
            "memory usage: 1.5+ MB\n"
          ]
        }
      ],
      "source": [
        "df_del.info()\n",
        "df_del.dropna(inplace=True)"
      ]
    },
    {
      "cell_type": "code",
      "execution_count": 15,
      "metadata": {
        "id": "RPbAQ3a2_TIZ"
      },
      "outputs": [],
      "source": [
        "df4 = df_del[[\"Price\",\"Area\",\"Location\"]]"
      ]
    },
    {
      "cell_type": "code",
      "execution_count": 16,
      "metadata": {
        "colab": {
          "base_uri": "https://localhost:8080/"
        },
        "id": "BydYUFQJCMHb",
        "outputId": "97fe29d4-ba27-4584-e4de-171d0282a930"
      },
      "outputs": [
        {
          "output_type": "stream",
          "name": "stderr",
          "text": [
            "/usr/local/lib/python3.7/dist-packages/ipykernel_launcher.py:1: SettingWithCopyWarning: \n",
            "A value is trying to be set on a copy of a slice from a DataFrame.\n",
            "Try using .loc[row_indexer,col_indexer] = value instead\n",
            "\n",
            "See the caveats in the documentation: https://pandas.pydata.org/pandas-docs/stable/user_guide/indexing.html#returning-a-view-versus-a-copy\n",
            "  \"\"\"Entry point for launching an IPython kernel.\n"
          ]
        }
      ],
      "source": [
        " df4['city'] = 'Delhi'\n"
      ]
    },
    {
      "cell_type": "markdown",
      "metadata": {
        "id": "yP0HuYTk_cKD"
      },
      "source": [
        "# Playing with Hyderabad's dataset"
      ]
    },
    {
      "cell_type": "code",
      "execution_count": 17,
      "metadata": {
        "colab": {
          "base_uri": "https://localhost:8080/"
        },
        "id": "Y5INPHCl_gEO",
        "outputId": "9fb712b0-652e-4ac8-8761-3aab8a69ae58"
      },
      "outputs": [
        {
          "output_type": "stream",
          "name": "stdout",
          "text": [
            "<class 'pandas.core.frame.DataFrame'>\n",
            "Int64Index: 4998 entries, 0 to 4997\n",
            "Data columns (total 40 columns):\n",
            " #   Column               Non-Null Count  Dtype \n",
            "---  ------               --------------  ----- \n",
            " 0   Price                4998 non-null   int64 \n",
            " 1   Area                 4998 non-null   int64 \n",
            " 2   Location             4998 non-null   object\n",
            " 3   No. of Bedrooms      4998 non-null   int64 \n",
            " 4   Resale               4998 non-null   int64 \n",
            " 5   MaintenanceStaff     4998 non-null   int64 \n",
            " 6   Gymnasium            4998 non-null   int64 \n",
            " 7   SwimmingPool         4998 non-null   int64 \n",
            " 8   LandscapedGardens    4998 non-null   int64 \n",
            " 9   JoggingTrack         4998 non-null   int64 \n",
            " 10  RainWaterHarvesting  4998 non-null   int64 \n",
            " 11  IndoorGames          4998 non-null   int64 \n",
            " 12  ShoppingMall         4998 non-null   int64 \n",
            " 13  Intercom             4998 non-null   int64 \n",
            " 14  SportsFacility       4998 non-null   int64 \n",
            " 15  ATM                  4998 non-null   int64 \n",
            " 16  ClubHouse            4998 non-null   int64 \n",
            " 17  School               4998 non-null   int64 \n",
            " 18  24X7Security         4998 non-null   int64 \n",
            " 19  PowerBackup          4998 non-null   int64 \n",
            " 20  CarParking           4998 non-null   int64 \n",
            " 21  StaffQuarter         4998 non-null   int64 \n",
            " 22  Cafeteria            4998 non-null   int64 \n",
            " 23  MultipurposeRoom     4998 non-null   int64 \n",
            " 24  Hospital             4998 non-null   int64 \n",
            " 25  WashingMachine       4998 non-null   int64 \n",
            " 26  Gasconnection        4998 non-null   int64 \n",
            " 27  AC                   4998 non-null   int64 \n",
            " 28  Wifi                 4998 non-null   int64 \n",
            " 29  Children'splayarea   4998 non-null   int64 \n",
            " 30  LiftAvailable        4998 non-null   int64 \n",
            " 31  BED                  4998 non-null   int64 \n",
            " 32  VaastuCompliant      4998 non-null   int64 \n",
            " 33  Microwave            4998 non-null   int64 \n",
            " 34  GolfCourse           4998 non-null   int64 \n",
            " 35  TV                   4998 non-null   int64 \n",
            " 36  DiningTable          4998 non-null   int64 \n",
            " 37  Sofa                 4998 non-null   int64 \n",
            " 38  Wardrobe             4998 non-null   int64 \n",
            " 39  Refrigerator         4998 non-null   int64 \n",
            "dtypes: int64(39), object(1)\n",
            "memory usage: 1.6+ MB\n"
          ]
        }
      ],
      "source": [
        "df_del.info()\n",
        "df_del.dropna(inplace=True)"
      ]
    },
    {
      "cell_type": "code",
      "execution_count": 18,
      "metadata": {
        "id": "oqCN3X3z_j-5"
      },
      "outputs": [],
      "source": [
        "df5 = df_hyd[[\"Price\",\"Area\",\"Location\"]]"
      ]
    },
    {
      "cell_type": "code",
      "execution_count": 19,
      "metadata": {
        "colab": {
          "base_uri": "https://localhost:8080/"
        },
        "id": "wVMYvWGuCUnA",
        "outputId": "83a1b092-23cc-4a2c-d702-ef7ff4c7747d"
      },
      "outputs": [
        {
          "output_type": "stream",
          "name": "stderr",
          "text": [
            "/usr/local/lib/python3.7/dist-packages/ipykernel_launcher.py:1: SettingWithCopyWarning: \n",
            "A value is trying to be set on a copy of a slice from a DataFrame.\n",
            "Try using .loc[row_indexer,col_indexer] = value instead\n",
            "\n",
            "See the caveats in the documentation: https://pandas.pydata.org/pandas-docs/stable/user_guide/indexing.html#returning-a-view-versus-a-copy\n",
            "  \"\"\"Entry point for launching an IPython kernel.\n"
          ]
        }
      ],
      "source": [
        " df5['city'] = 'Hyderabad'\n"
      ]
    },
    {
      "cell_type": "markdown",
      "metadata": {
        "id": "0c_VqNb4CZ8Q"
      },
      "source": [
        "\n",
        "\n",
        "# Playing with Kolkata's dataset"
      ]
    },
    {
      "cell_type": "code",
      "execution_count": 20,
      "metadata": {
        "id": "CcJo3U-R_nUA"
      },
      "outputs": [],
      "source": [
        "df_kol.dropna(inplace=True)"
      ]
    },
    {
      "cell_type": "code",
      "execution_count": 21,
      "metadata": {
        "colab": {
          "base_uri": "https://localhost:8080/"
        },
        "id": "-eO-cDTX_vbx",
        "outputId": "38b6c8ea-0c1f-435d-932e-78f634ae10e8"
      },
      "outputs": [
        {
          "output_type": "stream",
          "name": "stdout",
          "text": [
            "<class 'pandas.core.frame.DataFrame'>\n",
            "Int64Index: 6507 entries, 0 to 6506\n",
            "Data columns (total 40 columns):\n",
            " #   Column               Non-Null Count  Dtype \n",
            "---  ------               --------------  ----- \n",
            " 0   Price                6507 non-null   int64 \n",
            " 1   Area                 6507 non-null   int64 \n",
            " 2   Location             6507 non-null   object\n",
            " 3   No. of Bedrooms      6507 non-null   int64 \n",
            " 4   Resale               6507 non-null   int64 \n",
            " 5   MaintenanceStaff     6507 non-null   int64 \n",
            " 6   Gymnasium            6507 non-null   int64 \n",
            " 7   SwimmingPool         6507 non-null   int64 \n",
            " 8   LandscapedGardens    6507 non-null   int64 \n",
            " 9   JoggingTrack         6507 non-null   int64 \n",
            " 10  RainWaterHarvesting  6507 non-null   int64 \n",
            " 11  IndoorGames          6507 non-null   int64 \n",
            " 12  ShoppingMall         6507 non-null   int64 \n",
            " 13  Intercom             6507 non-null   int64 \n",
            " 14  SportsFacility       6507 non-null   int64 \n",
            " 15  ATM                  6507 non-null   int64 \n",
            " 16  ClubHouse            6507 non-null   int64 \n",
            " 17  School               6507 non-null   int64 \n",
            " 18  24X7Security         6507 non-null   int64 \n",
            " 19  PowerBackup          6507 non-null   int64 \n",
            " 20  CarParking           6507 non-null   int64 \n",
            " 21  StaffQuarter         6507 non-null   int64 \n",
            " 22  Cafeteria            6507 non-null   int64 \n",
            " 23  MultipurposeRoom     6507 non-null   int64 \n",
            " 24  Hospital             6507 non-null   int64 \n",
            " 25  WashingMachine       6507 non-null   int64 \n",
            " 26  Gasconnection        6507 non-null   int64 \n",
            " 27  AC                   6507 non-null   int64 \n",
            " 28  Wifi                 6507 non-null   int64 \n",
            " 29  Children'splayarea   6507 non-null   int64 \n",
            " 30  LiftAvailable        6507 non-null   int64 \n",
            " 31  BED                  6507 non-null   int64 \n",
            " 32  VaastuCompliant      6507 non-null   int64 \n",
            " 33  Microwave            6507 non-null   int64 \n",
            " 34  GolfCourse           6507 non-null   int64 \n",
            " 35  TV                   6507 non-null   int64 \n",
            " 36  DiningTable          6507 non-null   int64 \n",
            " 37  Sofa                 6507 non-null   int64 \n",
            " 38  Wardrobe             6507 non-null   int64 \n",
            " 39  Refrigerator         6507 non-null   int64 \n",
            "dtypes: int64(39), object(1)\n",
            "memory usage: 2.0+ MB\n"
          ]
        }
      ],
      "source": [
        "df_kol.info()"
      ]
    },
    {
      "cell_type": "code",
      "execution_count": 22,
      "metadata": {
        "id": "f8x5q8DI_xPf"
      },
      "outputs": [],
      "source": [
        "df6 = df_kol[[\"Price\",\"Area\",\"Location\"]]"
      ]
    },
    {
      "cell_type": "code",
      "execution_count": 23,
      "metadata": {
        "colab": {
          "base_uri": "https://localhost:8080/"
        },
        "id": "ZWmdF45ICgXk",
        "outputId": "b06884ad-dc71-4aff-f3cd-35283192f8b6"
      },
      "outputs": [
        {
          "output_type": "stream",
          "name": "stderr",
          "text": [
            "/usr/local/lib/python3.7/dist-packages/ipykernel_launcher.py:1: SettingWithCopyWarning: \n",
            "A value is trying to be set on a copy of a slice from a DataFrame.\n",
            "Try using .loc[row_indexer,col_indexer] = value instead\n",
            "\n",
            "See the caveats in the documentation: https://pandas.pydata.org/pandas-docs/stable/user_guide/indexing.html#returning-a-view-versus-a-copy\n",
            "  \"\"\"Entry point for launching an IPython kernel.\n"
          ]
        }
      ],
      "source": [
        " df6['city'] = 'Kolkata'\n"
      ]
    },
    {
      "cell_type": "markdown",
      "metadata": {
        "id": "mcYun3XgAQPk"
      },
      "source": [
        "#Concatenating to create a dataframe for all metro cities"
      ]
    },
    {
      "cell_type": "code",
      "execution_count": 24,
      "metadata": {
        "id": "hKxc2-eo_7Fw"
      },
      "outputs": [],
      "source": [
        "df = pd.concat([df1,df2,df3,df4,df5,df6])"
      ]
    },
    {
      "cell_type": "code",
      "execution_count": 25,
      "metadata": {
        "id": "-HpcvK-QADoU"
      },
      "outputs": [],
      "source": [
        "df.to_csv(\"Metro.csv\",index=False)"
      ]
    },
    {
      "cell_type": "markdown",
      "metadata": {
        "id": "4X3BMDKEC7tY"
      },
      "source": [
        "# Data analysis"
      ]
    },
    {
      "cell_type": "code",
      "execution_count": 26,
      "metadata": {
        "colab": {
          "base_uri": "https://localhost:8080/"
        },
        "id": "oWik55W6AJ9U",
        "outputId": "2e4f7d3b-b839-4038-90f2-81c49418c434"
      },
      "outputs": [
        {
          "output_type": "stream",
          "name": "stdout",
          "text": [
            "<class 'pandas.core.frame.DataFrame'>\n",
            "Int64Index: 32963 entries, 0 to 6506\n",
            "Data columns (total 4 columns):\n",
            " #   Column    Non-Null Count  Dtype \n",
            "---  ------    --------------  ----- \n",
            " 0   Price     32963 non-null  int64 \n",
            " 1   Area      32963 non-null  int64 \n",
            " 2   Location  32963 non-null  object\n",
            " 3   city      32963 non-null  object\n",
            "dtypes: int64(2), object(2)\n",
            "memory usage: 1.3+ MB\n"
          ]
        }
      ],
      "source": [
        "df.info()"
      ]
    },
    {
      "cell_type": "code",
      "source": [
        "df.describe()"
      ],
      "metadata": {
        "colab": {
          "base_uri": "https://localhost:8080/",
          "height": 280
        },
        "id": "EIYc_CEok8Hm",
        "outputId": "f7170c02-60df-4ca9-c960-0e9217baf7af"
      },
      "execution_count": 27,
      "outputs": [
        {
          "output_type": "execute_result",
          "data": {
            "text/plain": [
              "              Price          Area\n",
              "count  3.296300e+04  32963.000000\n",
              "mean   1.168672e+07   1293.362194\n",
              "std    2.307368e+07    763.703754\n",
              "min    2.000000e+06    200.000000\n",
              "25%    4.071500e+06    853.000000\n",
              "50%    6.711000e+06   1125.000000\n",
              "75%    1.200000e+07   1500.000000\n",
              "max    8.546000e+08  16000.000000"
            ],
            "text/html": [
              "\n",
              "  <div id=\"df-f01b0093-d995-458a-90f9-f39e9c0d579b\">\n",
              "    <div class=\"colab-df-container\">\n",
              "      <div>\n",
              "<style scoped>\n",
              "    .dataframe tbody tr th:only-of-type {\n",
              "        vertical-align: middle;\n",
              "    }\n",
              "\n",
              "    .dataframe tbody tr th {\n",
              "        vertical-align: top;\n",
              "    }\n",
              "\n",
              "    .dataframe thead th {\n",
              "        text-align: right;\n",
              "    }\n",
              "</style>\n",
              "<table border=\"1\" class=\"dataframe\">\n",
              "  <thead>\n",
              "    <tr style=\"text-align: right;\">\n",
              "      <th></th>\n",
              "      <th>Price</th>\n",
              "      <th>Area</th>\n",
              "    </tr>\n",
              "  </thead>\n",
              "  <tbody>\n",
              "    <tr>\n",
              "      <th>count</th>\n",
              "      <td>3.296300e+04</td>\n",
              "      <td>32963.000000</td>\n",
              "    </tr>\n",
              "    <tr>\n",
              "      <th>mean</th>\n",
              "      <td>1.168672e+07</td>\n",
              "      <td>1293.362194</td>\n",
              "    </tr>\n",
              "    <tr>\n",
              "      <th>std</th>\n",
              "      <td>2.307368e+07</td>\n",
              "      <td>763.703754</td>\n",
              "    </tr>\n",
              "    <tr>\n",
              "      <th>min</th>\n",
              "      <td>2.000000e+06</td>\n",
              "      <td>200.000000</td>\n",
              "    </tr>\n",
              "    <tr>\n",
              "      <th>25%</th>\n",
              "      <td>4.071500e+06</td>\n",
              "      <td>853.000000</td>\n",
              "    </tr>\n",
              "    <tr>\n",
              "      <th>50%</th>\n",
              "      <td>6.711000e+06</td>\n",
              "      <td>1125.000000</td>\n",
              "    </tr>\n",
              "    <tr>\n",
              "      <th>75%</th>\n",
              "      <td>1.200000e+07</td>\n",
              "      <td>1500.000000</td>\n",
              "    </tr>\n",
              "    <tr>\n",
              "      <th>max</th>\n",
              "      <td>8.546000e+08</td>\n",
              "      <td>16000.000000</td>\n",
              "    </tr>\n",
              "  </tbody>\n",
              "</table>\n",
              "</div>\n",
              "      <button class=\"colab-df-convert\" onclick=\"convertToInteractive('df-f01b0093-d995-458a-90f9-f39e9c0d579b')\"\n",
              "              title=\"Convert this dataframe to an interactive table.\"\n",
              "              style=\"display:none;\">\n",
              "        \n",
              "  <svg xmlns=\"http://www.w3.org/2000/svg\" height=\"24px\"viewBox=\"0 0 24 24\"\n",
              "       width=\"24px\">\n",
              "    <path d=\"M0 0h24v24H0V0z\" fill=\"none\"/>\n",
              "    <path d=\"M18.56 5.44l.94 2.06.94-2.06 2.06-.94-2.06-.94-.94-2.06-.94 2.06-2.06.94zm-11 1L8.5 8.5l.94-2.06 2.06-.94-2.06-.94L8.5 2.5l-.94 2.06-2.06.94zm10 10l.94 2.06.94-2.06 2.06-.94-2.06-.94-.94-2.06-.94 2.06-2.06.94z\"/><path d=\"M17.41 7.96l-1.37-1.37c-.4-.4-.92-.59-1.43-.59-.52 0-1.04.2-1.43.59L10.3 9.45l-7.72 7.72c-.78.78-.78 2.05 0 2.83L4 21.41c.39.39.9.59 1.41.59.51 0 1.02-.2 1.41-.59l7.78-7.78 2.81-2.81c.8-.78.8-2.07 0-2.86zM5.41 20L4 18.59l7.72-7.72 1.47 1.35L5.41 20z\"/>\n",
              "  </svg>\n",
              "      </button>\n",
              "      \n",
              "  <style>\n",
              "    .colab-df-container {\n",
              "      display:flex;\n",
              "      flex-wrap:wrap;\n",
              "      gap: 12px;\n",
              "    }\n",
              "\n",
              "    .colab-df-convert {\n",
              "      background-color: #E8F0FE;\n",
              "      border: none;\n",
              "      border-radius: 50%;\n",
              "      cursor: pointer;\n",
              "      display: none;\n",
              "      fill: #1967D2;\n",
              "      height: 32px;\n",
              "      padding: 0 0 0 0;\n",
              "      width: 32px;\n",
              "    }\n",
              "\n",
              "    .colab-df-convert:hover {\n",
              "      background-color: #E2EBFA;\n",
              "      box-shadow: 0px 1px 2px rgba(60, 64, 67, 0.3), 0px 1px 3px 1px rgba(60, 64, 67, 0.15);\n",
              "      fill: #174EA6;\n",
              "    }\n",
              "\n",
              "    [theme=dark] .colab-df-convert {\n",
              "      background-color: #3B4455;\n",
              "      fill: #D2E3FC;\n",
              "    }\n",
              "\n",
              "    [theme=dark] .colab-df-convert:hover {\n",
              "      background-color: #434B5C;\n",
              "      box-shadow: 0px 1px 3px 1px rgba(0, 0, 0, 0.15);\n",
              "      filter: drop-shadow(0px 1px 2px rgba(0, 0, 0, 0.3));\n",
              "      fill: #FFFFFF;\n",
              "    }\n",
              "  </style>\n",
              "\n",
              "      <script>\n",
              "        const buttonEl =\n",
              "          document.querySelector('#df-f01b0093-d995-458a-90f9-f39e9c0d579b button.colab-df-convert');\n",
              "        buttonEl.style.display =\n",
              "          google.colab.kernel.accessAllowed ? 'block' : 'none';\n",
              "\n",
              "        async function convertToInteractive(key) {\n",
              "          const element = document.querySelector('#df-f01b0093-d995-458a-90f9-f39e9c0d579b');\n",
              "          const dataTable =\n",
              "            await google.colab.kernel.invokeFunction('convertToInteractive',\n",
              "                                                     [key], {});\n",
              "          if (!dataTable) return;\n",
              "\n",
              "          const docLinkHtml = 'Like what you see? Visit the ' +\n",
              "            '<a target=\"_blank\" href=https://colab.research.google.com/notebooks/data_table.ipynb>data table notebook</a>'\n",
              "            + ' to learn more about interactive tables.';\n",
              "          element.innerHTML = '';\n",
              "          dataTable['output_type'] = 'display_data';\n",
              "          await google.colab.output.renderOutput(dataTable, element);\n",
              "          const docLink = document.createElement('div');\n",
              "          docLink.innerHTML = docLinkHtml;\n",
              "          element.appendChild(docLink);\n",
              "        }\n",
              "      </script>\n",
              "    </div>\n",
              "  </div>\n",
              "  "
            ]
          },
          "metadata": {},
          "execution_count": 27
        }
      ]
    },
    {
      "cell_type": "code",
      "source": [
        "plt.hist(df['Area'])\n"
      ],
      "metadata": {
        "colab": {
          "base_uri": "https://localhost:8080/",
          "height": 352
        },
        "id": "y8ek3kV3lxsy",
        "outputId": "a5178a72-3bb9-4319-8c89-234a51be52f8"
      },
      "execution_count": 29,
      "outputs": [
        {
          "output_type": "execute_result",
          "data": {
            "text/plain": [
              "(array([2.8027e+04, 4.1390e+03, 5.4200e+02, 1.7500e+02, 6.0000e+01,\n",
              "        1.5000e+01, 3.0000e+00, 1.0000e+00, 0.0000e+00, 1.0000e+00]),\n",
              " array([  200.,  1780.,  3360.,  4940.,  6520.,  8100.,  9680., 11260.,\n",
              "        12840., 14420., 16000.]),\n",
              " <a list of 10 Patch objects>)"
            ]
          },
          "metadata": {},
          "execution_count": 29
        },
        {
          "output_type": "display_data",
          "data": {
            "text/plain": [
              "<Figure size 432x288 with 1 Axes>"
            ],
            "image/png": "[encoded data removed]"
          },
          "metadata": {
            "needs_background": "light"
          }
        }
      ]
    },
    {
      "cell_type": "code",
      "source": [
        "#the graph isn't spread well. let's check with the boxplot for outliers.\n",
        "\n",
        "plt.boxplot(df[\"Area\"])"
      ],
      "metadata": {
        "colab": {
          "base_uri": "https://localhost:8080/",
          "height": 404
        },
        "id": "E9swt50gl6i2",
        "outputId": "c855e976-1382-4f76-fdf9-b99531948876"
      },
      "execution_count": 30,
      "outputs": [
        {
          "output_type": "execute_result",
          "data": {
            "text/plain": [
              "{'boxes': [<matplotlib.lines.Line2D at 0x7f02f2e8f710>],\n",
              " 'caps': [<matplotlib.lines.Line2D at 0x7f02f2e95750>,\n",
              "  <matplotlib.lines.Line2D at 0x7f02f2e95c90>],\n",
              " 'fliers': [<matplotlib.lines.Line2D at 0x7f02f2e9c790>],\n",
              " 'means': [],\n",
              " 'medians': [<matplotlib.lines.Line2D at 0x7f02f2e9c250>],\n",
              " 'whiskers': [<matplotlib.lines.Line2D at 0x7f02f2e8fc90>,\n",
              "  <matplotlib.lines.Line2D at 0x7f02f2e95210>]}"
            ]
          },
          "metadata": {},
          "execution_count": 30
        },
        {
          "output_type": "display_data",
          "data": {
            "text/plain": [
              "<Figure size 432x288 with 1 Axes>"
            ],
            "image/png": "[encoded data removed]"
          },
          "metadata": {
            "needs_background": "light"
          }
        }
      ]
    },
    {
      "cell_type": "code",
      "source": [
        "#we have alot of data outside the upper whisker and they are the outliers. This can affect our analysis.\n",
        "#let us mask our dataframe with a condition and reduce the outliers.\n",
        "\n",
        "mask = df[\"Area\"] < 2000 #since 75% of the dataset averages at 1500, let's take the properties upto size 2000\n"
      ],
      "metadata": {
        "id": "6gNrQO4SmHKz"
      },
      "execution_count": 31,
      "outputs": []
    },
    {
      "cell_type": "code",
      "source": [
        "df = df[mask]"
      ],
      "metadata": {
        "id": "RSSegd89ms2N"
      },
      "execution_count": 32,
      "outputs": []
    },
    {
      "cell_type": "code",
      "source": [
        "df.describe()"
      ],
      "metadata": {
        "colab": {
          "base_uri": "https://localhost:8080/",
          "height": 300
        },
        "id": "u2BQ1kvIm6Hv",
        "outputId": "f5588449-71e9-411c-9126-d80699894b7a"
      },
      "execution_count": 33,
      "outputs": [
        {
          "output_type": "execute_result",
          "data": {
            "text/plain": [
              "              Price          Area\n",
              "count  2.975000e+04  29750.000000\n",
              "mean   1.002571e+07   1108.493849\n",
              "std    1.654076e+07    374.394377\n",
              "min    2.000000e+06    200.000000\n",
              "25%    4.000000e+06    820.000000\n",
              "50%    6.389000e+06   1080.000000\n",
              "75%    1.070000e+07   1367.000000\n",
              "max    7.044000e+08   1999.000000"
            ],
            "text/html": [
              "\n",
              "  <div id=\"df-fd5ededd-8f65-4f82-861a-b8169c86a84b\">\n",
              "    <div class=\"colab-df-container\">\n",
              "      <div>\n",
              "<style scoped>\n",
              "    .dataframe tbody tr th:only-of-type {\n",
              "        vertical-align: middle;\n",
              "    }\n",
              "\n",
              "    .dataframe tbody tr th {\n",
              "        vertical-align: top;\n",
              "    }\n",
              "\n",
              "    .dataframe thead th {\n",
              "        text-align: right;\n",
              "    }\n",
              "</style>\n",
              "<table border=\"1\" class=\"dataframe\">\n",
              "  <thead>\n",
              "    <tr style=\"text-align: right;\">\n",
              "      <th></th>\n",
              "      <th>Price</th>\n",
              "      <th>Area</th>\n",
              "    </tr>\n",
              "  </thead>\n",
              "  <tbody>\n",
              "    <tr>\n",
              "      <th>count</th>\n",
              "      <td>2.975000e+04</td>\n",
              "      <td>29750.000000</td>\n",
              "    </tr>\n",
              "    <tr>\n",
              "      <th>mean</th>\n",
              "      <td>1.002571e+07</td>\n",
              "      <td>1108.493849</td>\n",
              "    </tr>\n",
              "    <tr>\n",
              "      <th>std</th>\n",
              "      <td>1.654076e+07</td>\n",
              "      <td>374.394377</td>\n",
              "    </tr>\n",
              "    <tr>\n",
              "      <th>min</th>\n",
              "      <td>2.000000e+06</td>\n",
              "      <td>200.000000</td>\n",
              "    </tr>\n",
              "    <tr>\n",
              "      <th>25%</th>\n",
              "      <td>4.000000e+06</td>\n",
              "      <td>820.000000</td>\n",
              "    </tr>\n",
              "    <tr>\n",
              "      <th>50%</th>\n",
              "      <td>6.389000e+06</td>\n",
              "      <td>1080.000000</td>\n",
              "    </tr>\n",
              "    <tr>\n",
              "      <th>75%</th>\n",
              "      <td>1.070000e+07</td>\n",
              "      <td>1367.000000</td>\n",
              "    </tr>\n",
              "    <tr>\n",
              "      <th>max</th>\n",
              "      <td>7.044000e+08</td>\n",
              "      <td>1999.000000</td>\n",
              "    </tr>\n",
              "  </tbody>\n",
              "</table>\n",
              "</div>\n",
              "      <button class=\"colab-df-convert\" onclick=\"convertToInteractive('df-fd5ededd-8f65-4f82-861a-b8169c86a84b')\"\n",
              "              title=\"Convert this dataframe to an interactive table.\"\n",
              "              style=\"display:none;\">\n",
              "        \n",
              "  <svg xmlns=\"http://www.w3.org/2000/svg\" height=\"24px\"viewBox=\"0 0 24 24\"\n",
              "       width=\"24px\">\n",
              "    <path d=\"M0 0h24v24H0V0z\" fill=\"none\"/>\n",
              "    <path d=\"M18.56 5.44l.94 2.06.94-2.06 2.06-.94-2.06-.94-.94-2.06-.94 2.06-2.06.94zm-11 1L8.5 8.5l.94-2.06 2.06-.94-2.06-.94L8.5 2.5l-.94 2.06-2.06.94zm10 10l.94 2.06.94-2.06 2.06-.94-2.06-.94-.94-2.06-.94 2.06-2.06.94z\"/><path d=\"M17.41 7.96l-1.37-1.37c-.4-.4-.92-.59-1.43-.59-.52 0-1.04.2-1.43.59L10.3 9.45l-7.72 7.72c-.78.78-.78 2.05 0 2.83L4 21.41c.39.39.9.59 1.41.59.51 0 1.02-.2 1.41-.59l7.78-7.78 2.81-2.81c.8-.78.8-2.07 0-2.86zM5.41 20L4 18.59l7.72-7.72 1.47 1.35L5.41 20z\"/>\n",
              "  </svg>\n",
              "      </button>\n",
              "      \n",
              "  <style>\n",
              "    .colab-df-container {\n",
              "      display:flex;\n",
              "      flex-wrap:wrap;\n",
              "      gap: 12px;\n",
              "    }\n",
              "\n",
              "    .colab-df-convert {\n",
              "      background-color: #E8F0FE;\n",
              "      border: none;\n",
              "      border-radius: 50%;\n",
              "      cursor: pointer;\n",
              "      display: none;\n",
              "      fill: #1967D2;\n",
              "      height: 32px;\n",
              "      padding: 0 0 0 0;\n",
              "      width: 32px;\n",
              "    }\n",
              "\n",
              "    .colab-df-convert:hover {\n",
              "      background-color: #E2EBFA;\n",
              "      box-shadow: 0px 1px 2px rgba(60, 64, 67, 0.3), 0px 1px 3px 1px rgba(60, 64, 67, 0.15);\n",
              "      fill: #174EA6;\n",
              "    }\n",
              "\n",
              "    [theme=dark] .colab-df-convert {\n",
              "      background-color: #3B4455;\n",
              "      fill: #D2E3FC;\n",
              "    }\n",
              "\n",
              "    [theme=dark] .colab-df-convert:hover {\n",
              "      background-color: #434B5C;\n",
              "      box-shadow: 0px 1px 3px 1px rgba(0, 0, 0, 0.15);\n",
              "      filter: drop-shadow(0px 1px 2px rgba(0, 0, 0, 0.3));\n",
              "      fill: #FFFFFF;\n",
              "    }\n",
              "  </style>\n",
              "\n",
              "      <script>\n",
              "        const buttonEl =\n",
              "          document.querySelector('#df-fd5ededd-8f65-4f82-861a-b8169c86a84b button.colab-df-convert');\n",
              "        buttonEl.style.display =\n",
              "          google.colab.kernel.accessAllowed ? 'block' : 'none';\n",
              "\n",
              "        async function convertToInteractive(key) {\n",
              "          const element = document.querySelector('#df-fd5ededd-8f65-4f82-861a-b8169c86a84b');\n",
              "          const dataTable =\n",
              "            await google.colab.kernel.invokeFunction('convertToInteractive',\n",
              "                                                     [key], {});\n",
              "          if (!dataTable) return;\n",
              "\n",
              "          const docLinkHtml = 'Like what you see? Visit the ' +\n",
              "            '<a target=\"_blank\" href=https://colab.research.google.com/notebooks/data_table.ipynb>data table notebook</a>'\n",
              "            + ' to learn more about interactive tables.';\n",
              "          element.innerHTML = '';\n",
              "          dataTable['output_type'] = 'display_data';\n",
              "          await google.colab.output.renderOutput(dataTable, element);\n",
              "          const docLink = document.createElement('div');\n",
              "          docLink.innerHTML = docLinkHtml;\n",
              "          element.appendChild(docLink);\n",
              "        }\n",
              "      </script>\n",
              "    </div>\n",
              "  </div>\n",
              "  "
            ]
          },
          "metadata": {},
          "execution_count": 33
        }
      ]
    },
    {
      "cell_type": "code",
      "source": [
        "#Q1. Which city has the most expensive real estate market?\n",
        "\n",
        "#let's try to answer this by grouping the cities based on their avg. price per property\n",
        "\n",
        "mean_price_by_city = df.groupby(\"city\")[\"Price\"].mean().sort_values(ascending=False)\n",
        "mean_price_by_city"
      ],
      "metadata": {
        "colab": {
          "base_uri": "https://localhost:8080/"
        },
        "id": "sG_oXebWnXOy",
        "outputId": "ef3b6dea-7248-4d77-9611-2cca53ea3258"
      },
      "execution_count": 40,
      "outputs": [
        {
          "output_type": "execute_result",
          "data": {
            "text/plain": [
              "city\n",
              "Mumbai       1.408942e+07\n",
              "Delhi        1.160560e+07\n",
              "Bangalore    8.824360e+06\n",
              "Kolkata      7.731513e+06\n",
              "Chennai      7.651211e+06\n",
              "Hyderabad    7.136108e+06\n",
              "Name: Price, dtype: float64"
            ]
          },
          "metadata": {},
          "execution_count": 40
        }
      ]
    },
    {
      "cell_type": "code",
      "source": [
        "#visualising the values would be a better way to understand!!\n",
        "\n",
        "mean_price_by_city.plot(kind=\"bar\",xlabel=\"city\",ylabel=\"Price\",title=\"mean house price by city\")"
      ],
      "metadata": {
        "colab": {
          "base_uri": "https://localhost:8080/",
          "height": 357
        },
        "id": "WxQ7SLnKFvoO",
        "outputId": "68c2a1fa-f9d8-457e-90b7-86495a1d2552"
      },
      "execution_count": 41,
      "outputs": [
        {
          "output_type": "execute_result",
          "data": {
            "text/plain": [
              "<matplotlib.axes._subplots.AxesSubplot at 0x7f02f2e4b290>"
            ]
          },
          "metadata": {},
          "execution_count": 41
        },
        {
          "output_type": "display_data",
          "data": {
            "text/plain": [
              "<Figure size 432x288 with 1 Axes>"
            ],
            "image/png": "[encoded data removed]"
          },
          "metadata": {
            "needs_background": "light"
          }
        }
      ]
    },
    {
      "cell_type": "code",
      "source": [
        "#we can see that Mumbai is the most expensive real estate marketplace in India. this is for mean price per property\n",
        "#how about price per m2?\n",
        "\n",
        "#let's explore"
      ],
      "metadata": {
        "id": "wPuqMmYDF5Gp"
      },
      "execution_count": 42,
      "outputs": []
    },
    {
      "cell_type": "code",
      "source": [
        "df[\"price_per_m2\"] = df[\"Price\"]/df[\"Area\"]"
      ],
      "metadata": {
        "id": "rx4sJLzAGscm",
        "colab": {
          "base_uri": "https://localhost:8080/"
        },
        "outputId": "e24f501b-f04a-4ce5-c5ef-41c806e54867"
      },
      "execution_count": 43,
      "outputs": [
        {
          "output_type": "stream",
          "name": "stderr",
          "text": [
            "/usr/local/lib/python3.7/dist-packages/ipykernel_launcher.py:1: SettingWithCopyWarning: \n",
            "A value is trying to be set on a copy of a slice from a DataFrame.\n",
            "Try using .loc[row_indexer,col_indexer] = value instead\n",
            "\n",
            "See the caveats in the documentation: https://pandas.pydata.org/pandas-docs/stable/user_guide/indexing.html#returning-a-view-versus-a-copy\n",
            "  \"\"\"Entry point for launching an IPython kernel.\n"
          ]
        }
      ]
    },
    {
      "cell_type": "code",
      "source": [
        "df.groupby(\"city\")[\"price_per_m2\"].mean().sort_values(ascending=False).plot(kind=\"bar\",xlabel=\"city\",ylabel=\"mean price per M^2\")"
      ],
      "metadata": {
        "colab": {
          "base_uri": "https://localhost:8080/",
          "height": 341
        },
        "id": "AeXMF85UGyZH",
        "outputId": "faf04005-6cad-48d2-b9aa-f4896d4f7e5d"
      },
      "execution_count": 44,
      "outputs": [
        {
          "output_type": "execute_result",
          "data": {
            "text/plain": [
              "<matplotlib.axes._subplots.AxesSubplot at 0x7f02f2c2a550>"
            ]
          },
          "metadata": {},
          "execution_count": 44
        },
        {
          "output_type": "display_data",
          "data": {
            "text/plain": [
              "<Figure size 432x288 with 1 Axes>"
            ],
            "image/png": "[encoded data removed]"
          },
          "metadata": {
            "needs_background": "light"
          }
        }
      ]
    },
    {
      "cell_type": "code",
      "source": [
        "#We can se that price per m2 in Mumbai is highest in the country which is true as per the GDP numbers of India!\n",
        "#this demonstrates that the price is influenced by the location of the property. "
      ],
      "metadata": {
        "id": "WPrmcSlwG1Yk"
      },
      "execution_count": 47,
      "outputs": []
    },
    {
      "cell_type": "code",
      "source": [
        "#Q2: Is there a relationship between home size and price?"
      ],
      "metadata": {
        "id": "6t1yp2PlHQI0"
      },
      "execution_count": 48,
      "outputs": []
    },
    {
      "cell_type": "code",
      "source": [
        "#let's scatter the values based on area and price of the property\n",
        "\n",
        "plt.scatter(df[\"Area\"],df[\"Price\"])\n"
      ],
      "metadata": {
        "colab": {
          "base_uri": "https://localhost:8080/",
          "height": 293
        },
        "id": "Fku-Co8UHZLz",
        "outputId": "29b9a010-32ff-4b80-d221-bc1535bcbab3"
      },
      "execution_count": 49,
      "outputs": [
        {
          "output_type": "execute_result",
          "data": {
            "text/plain": [
              "<matplotlib.collections.PathCollection at 0x7f02f2b4f710>"
            ]
          },
          "metadata": {},
          "execution_count": 49
        },
        {
          "output_type": "display_data",
          "data": {
            "text/plain": [
              "<Figure size 432x288 with 1 Axes>"
            ],
            "image/png": "[encoded data removed]"
          },
          "metadata": {
            "needs_background": "light"
          }
        }
      ]
    },
    {
      "cell_type": "code",
      "source": [
        "#let's quantify this relation!\n",
        "p_correlation = df[\"Area\"].corr(df[\"Price\"])\n",
        "print(p_correlation)"
      ],
      "metadata": {
        "colab": {
          "base_uri": "https://localhost:8080/"
        },
        "id": "_Wzr7Y35HkZ5",
        "outputId": "53ca071c-d212-4ff3-b80a-96e791b97cac"
      },
      "execution_count": 50,
      "outputs": [
        {
          "output_type": "stream",
          "name": "stdout",
          "text": [
            "0.09688932316114794\n"
          ]
        }
      ]
    },
    {
      "cell_type": "code",
      "source": [
        "#the relation is very weak relation and bad as well. A value of approx. 0.09 suggests we cannot \n",
        "#predict the price of the property by just looking at the size of the property, and vice versa.\n"
      ],
      "metadata": {
        "id": "d54YoVjlHyIU"
      },
      "execution_count": 51,
      "outputs": []
    },
    {
      "cell_type": "code",
      "source": [
        "#Conclusion: The property prices in the Indian Metropolitian Cities are driven by Location of the property and \n",
        "#            the size of the property cannot be a reliable observation to calculate the price of the property. "
      ],
      "metadata": {
        "id": "LbSHZv-Nghaf"
      },
      "execution_count": 53,
      "outputs": []
    },
    {
      "cell_type": "code",
      "source": [
        ""
      ],
      "metadata": {
        "id": "8hLID94Fo6en"
      },
      "execution_count": null,
      "outputs": []
    }
  ],
  "metadata": {
    "colab": {
      "name": "EDA.ipynb",
      "provenance": [],
      "include_colab_link": true
    },
    "kernelspec": {
      "display_name": "Python 3",
      "name": "python3"
    },
    "language_info": {
      "name": "python"
    }
  },
  "nbformat": 4,
  "nbformat_minor": 0
}